{
 "cells": [
  {
   "cell_type": "code",
   "execution_count": 6,
   "metadata": {
    "scrolled": false
   },
   "outputs": [],
   "source": [
    "from selenium import *\n",
    "from selenium.webdriver.common.keys import Keys\n",
    "from selenium.webdriver.common.action_chains import ActionChains\n",
    "from selenium.webdriver.support.ui import WebDriverWait\n",
    "from selenium.webdriver.support import expected_conditions as EC\n",
    "from selenium.webdriver.common.by import By\n",
    "from datetime import datetime, date, timedelta\n",
    "import requests, json\n",
    "import time \n",
    "\n",
    "\n",
    "noOfPeople = 2\n",
    "noOfHours = noOfPeople*2 #quick mafs\n",
    "roomList = [\"Massey Group Study Pod\", \"309\", \"Group Study Pod 3\", \"Group Study Pod 2\"]\n",
    "browserInstances = []"
   ]
  },
  {
   "cell_type": "code",
   "execution_count": 12,
   "metadata": {},
   "outputs": [],
   "source": [
    "def login(username, password, driver):    \n",
    "    WebDriverWait(driver, 5).until(EC.visibility_of_element_located(('name','j_username'))).send_keys(username)\n",
    "    driver.find_element_by_name(\"j_password\").send_keys(password + Keys.RETURN)\n",
    "\n",
    "\n",
    "def changeDates(driver, date):\n",
    "    month = date.strftime(\"%b\")\n",
    "    day = date.strftime(\"%d\")\n",
    "    year = date.strftime(\"%Y\")\n",
    "    WebDriverWait(driver, 5).until(EC.element_to_be_clickable((By.XPATH, \"//button[contains(text(),'Go To Date')]\")))\n",
    "    calendarList = driver.find_elements_by_xpath(\"//button[contains(text(),'Go To Date')]\")\n",
    "    for x in range(len(calendarList)):\n",
    "        WebDriverWait(driver, 5).until(EC.element_to_be_clickable(('xpath',\"//button[contains(text(),'Go To Date')]\")))\n",
    "        calendarList = driver.find_elements_by_xpath(\"//button[contains(text(),'Go To Date')]\")\n",
    "        calendarList[x].click()\n",
    "        driver.find_element_by_xpath(\"//div[@class='datepicker-days']\").find_element_by_xpath(\"//th[@class='datepicker-switch']\").click()\n",
    "        WebDriverWait(driver, 1).until(EC.element_to_be_clickable(('xpath',\"//span[contains(@class,'month')][text()='\" + month + \"']\"))).click()\n",
    "        print(day)\n",
    "        WebDriverWait(driver, 1).until(EC.element_to_be_clickable(('xpath',\"//td[contains(@class,'day')][text()='\" + day + \"']\"))).click()\n",
    "        print(\"Click Successful\")\n",
    "\n",
    "def checkAvailibility(driver, roomList, dateandtime, totalHours):\n",
    "    dateToCheck = dateandtime\n",
    "    driver.get(\"https://library-calendars.ucl.ac.uk/allspaces\")\n",
    "    changeDates(driver,dateToCheck)\n",
    "    availability = dict(zip(roomList, [True]*len(roomList)))\n",
    "    for room in roomList:\n",
    "        startHour = int(dateToCheck.strftime(\"%#I\"))\n",
    "        titleString = dateToCheck.strftime(\":%Mpm %A, %B %d, %Y - \")\n",
    "        elementsList = []\n",
    "        titleString = titleString + room\n",
    "        for time in range(totalHours): \n",
    "            xPath = \"//a[@title='\" + str(startHour+time) + titleString + \"']\"\n",
    "            elementsList.append(driver.find_element_by_xpath(xPath))\n",
    "        for el in elementsList:\n",
    "            if(el.get_attribute(\"class\") != \"fc-timeline-event fc-h-event fc-event fc-start fc-end s-lc-eq-avail\"):\n",
    "                availability[room] = False\n",
    "    return availability"
   ]
  },
  {
   "cell_type": "code",
   "execution_count": 8,
   "metadata": {},
   "outputs": [],
   "source": [
    "def bookRooms(roomList, noOfPeople, startDate, endDate, usernames, passwords):\n",
    "    driverList = []\n",
    "    checkingDriver = webdriver.Firefox()\n",
    "    checkingDriver.implicitly_wait(3);\n",
    "    chosenRoom = \"\"\n",
    "    noOfHours = noOfPeople*2\n",
    "    #date = \"13/03/2019 13\"\n",
    "    startDate = datetime.strptime(startDate, \"%d/%m/%Y %H\")\n",
    "    endDate = datetime.strptime(endDate, \"%d/%m/%Y\")\n",
    "    dateToCheck = startDate\n",
    "    for x in range(noOfPeople):\n",
    "            driver = webdriver.Firefox()\n",
    "            driverList.append(driver)\n",
    "            driverList[x].implicitly_wait(5);\n",
    "            \n",
    "    for day in range((endDate-startDate).days+2):\n",
    "        if (dateToCheck.strftime(\"%w\") != \"0\") and (dateToCheck.strftime(\"%w\") != \"6\"):\n",
    "            startHour = int(dateToCheck.strftime(\"%#I\"))\n",
    "            availability = checkAvailibility(checkingDriver, roomList, dateToCheck, noOfHours)\n",
    "\n",
    "            for room in roomList: \n",
    "                if availability[room] == True: \n",
    "                    chosenRoom = room\n",
    "                    break\n",
    "                else:\n",
    "                    continue\n",
    "\n",
    "            if chosenRoom != \"\":\n",
    "                for person in range(noOfPeople):\n",
    "                    driverList[person].get(\"https://library-calendars.ucl.ac.uk/allspaces\")\n",
    "                    for hour in range(2):\n",
    "                        changeDates(driverList[person], dateToCheck)\n",
    "                        titleString = dateToCheck.strftime(\":%Mpm %A, %B %d, %Y - \")\n",
    "                        titleString = str((person*2)+hour+startHour) + titleString + room\n",
    "                        print(titleString)\n",
    "                        xPath = \"//a[@title='\" + titleString + \"']\"\n",
    "                        driverList[person].find_element_by_xpath(xPath).click()\n",
    "                        WebDriverWait(driverList[person], 5).until(EC.element_to_be_clickable((\"id\",\"submit_times\"))).click()\n",
    "                        if day == 0 and hour == 0:\n",
    "                            login(usernames[person], passwords[person], driverList[person])\n",
    "                            WebDriverWait(driverList[person], 5).until(EC.element_to_be_clickable(('name','_eventId_proceed'))).click()\n",
    "                        WebDriverWait(driverList[person], 5).until(EC.element_to_be_clickable(('name','continue'))).click()\n",
    "                        WebDriverWait(driverList[person], 5).until(EC.element_to_be_clickable(('id','s-lc-eq-bform-submit'))).click()\n",
    "                        driverList[person].get(\"https://library-calendars.ucl.ac.uk/allspaces\")\n",
    "            else: \n",
    "                print(dateToCheck.strftime(\"%A %B %d, %Y - \") + room + \": Could not be booked. (No Available Rooms)\")\n",
    "        dateToCheck = dateToCheck + timedelta(days=1)\n",
    "        chosenRoom = \"\"\n",
    "        \n",
    "    for driver in driverList:\n",
    "        driver.close()\n",
    "    checkingDriver.close()"
   ]
  },
  {
   "cell_type": "code",
   "execution_count": 13,
   "metadata": {},
   "outputs": [
    {
     "name": "stdout",
     "output_type": "stream",
     "text": [
      "28\n",
      "Click Successful\n",
      "28\n",
      "Click Successful\n",
      "28\n",
      "Click Successful\n",
      "28\n",
      "Click Successful\n",
      "28\n",
      "Click Successful\n",
      "28\n",
      "Click Successful\n",
      "28\n",
      "Click Successful\n"
     ]
    },
    {
     "ename": "NoSuchElementException",
     "evalue": "Message: Unable to locate element: //a[@title='1:00pm Thursday, March 28, 2019 - 4.04']\n",
     "output_type": "error",
     "traceback": [
      "\u001b[1;31m---------------------------------------------------------------------------\u001b[0m",
      "\u001b[1;31mNoSuchElementException\u001b[0m                    Traceback (most recent call last)",
      "\u001b[1;32m<ipython-input-13-7ab479e895b2>\u001b[0m in \u001b[0;36m<module>\u001b[1;34m()\u001b[0m\n\u001b[0;32m      5\u001b[0m \u001b[1;33m\u001b[0m\u001b[0m\n\u001b[0;32m      6\u001b[0m \u001b[1;31m# NEVER START ON SATURDAY/SUNDAY AS INPUT\u001b[0m\u001b[1;33m\u001b[0m\u001b[1;33m\u001b[0m\u001b[0m\n\u001b[1;32m----> 7\u001b[1;33m \u001b[0mbookRooms\u001b[0m\u001b[1;33m(\u001b[0m\u001b[0mroomList\u001b[0m\u001b[1;33m,\u001b[0m \u001b[1;36m4\u001b[0m\u001b[1;33m,\u001b[0m \u001b[1;34m\"28/03/2019 13\"\u001b[0m\u001b[1;33m,\u001b[0m \u001b[1;34m\"14/04/2019\"\u001b[0m\u001b[1;33m,\u001b[0m \u001b[0musernames\u001b[0m\u001b[1;33m,\u001b[0m \u001b[0mpasswords\u001b[0m\u001b[1;33m)\u001b[0m\u001b[1;33m\u001b[0m\u001b[0m\n\u001b[0m",
      "\u001b[1;32m<ipython-input-8-6f492411bb3b>\u001b[0m in \u001b[0;36mbookRooms\u001b[1;34m(roomList, noOfPeople, startDate, endDate, usernames, passwords)\u001b[0m\n\u001b[0;32m     17\u001b[0m         \u001b[1;32mif\u001b[0m \u001b[1;33m(\u001b[0m\u001b[0mdateToCheck\u001b[0m\u001b[1;33m.\u001b[0m\u001b[0mstrftime\u001b[0m\u001b[1;33m(\u001b[0m\u001b[1;34m\"%w\"\u001b[0m\u001b[1;33m)\u001b[0m \u001b[1;33m!=\u001b[0m \u001b[1;34m\"0\"\u001b[0m\u001b[1;33m)\u001b[0m \u001b[1;32mand\u001b[0m \u001b[1;33m(\u001b[0m\u001b[0mdateToCheck\u001b[0m\u001b[1;33m.\u001b[0m\u001b[0mstrftime\u001b[0m\u001b[1;33m(\u001b[0m\u001b[1;34m\"%w\"\u001b[0m\u001b[1;33m)\u001b[0m \u001b[1;33m!=\u001b[0m \u001b[1;34m\"6\"\u001b[0m\u001b[1;33m)\u001b[0m\u001b[1;33m:\u001b[0m\u001b[1;33m\u001b[0m\u001b[0m\n\u001b[0;32m     18\u001b[0m             \u001b[0mstartHour\u001b[0m \u001b[1;33m=\u001b[0m \u001b[0mint\u001b[0m\u001b[1;33m(\u001b[0m\u001b[0mdateToCheck\u001b[0m\u001b[1;33m.\u001b[0m\u001b[0mstrftime\u001b[0m\u001b[1;33m(\u001b[0m\u001b[1;34m\"%#I\"\u001b[0m\u001b[1;33m)\u001b[0m\u001b[1;33m)\u001b[0m\u001b[1;33m\u001b[0m\u001b[0m\n\u001b[1;32m---> 19\u001b[1;33m             \u001b[0mavailability\u001b[0m \u001b[1;33m=\u001b[0m \u001b[0mcheckAvailibility\u001b[0m\u001b[1;33m(\u001b[0m\u001b[0mcheckingDriver\u001b[0m\u001b[1;33m,\u001b[0m \u001b[0mroomList\u001b[0m\u001b[1;33m,\u001b[0m \u001b[0mdateToCheck\u001b[0m\u001b[1;33m,\u001b[0m \u001b[0mnoOfHours\u001b[0m\u001b[1;33m)\u001b[0m\u001b[1;33m\u001b[0m\u001b[0m\n\u001b[0m\u001b[0;32m     20\u001b[0m \u001b[1;33m\u001b[0m\u001b[0m\n\u001b[0;32m     21\u001b[0m             \u001b[1;32mfor\u001b[0m \u001b[0mroom\u001b[0m \u001b[1;32min\u001b[0m \u001b[0mroomList\u001b[0m\u001b[1;33m:\u001b[0m\u001b[1;33m\u001b[0m\u001b[0m\n",
      "\u001b[1;32m<ipython-input-12-2ea384338f0b>\u001b[0m in \u001b[0;36mcheckAvailibility\u001b[1;34m(driver, roomList, dateandtime, totalHours)\u001b[0m\n\u001b[0;32m     32\u001b[0m         \u001b[1;32mfor\u001b[0m \u001b[0mtime\u001b[0m \u001b[1;32min\u001b[0m \u001b[0mrange\u001b[0m\u001b[1;33m(\u001b[0m\u001b[0mtotalHours\u001b[0m\u001b[1;33m)\u001b[0m\u001b[1;33m:\u001b[0m\u001b[1;33m\u001b[0m\u001b[0m\n\u001b[0;32m     33\u001b[0m             \u001b[0mxPath\u001b[0m \u001b[1;33m=\u001b[0m \u001b[1;34m\"//a[@title='\"\u001b[0m \u001b[1;33m+\u001b[0m \u001b[0mstr\u001b[0m\u001b[1;33m(\u001b[0m\u001b[0mstartHour\u001b[0m\u001b[1;33m+\u001b[0m\u001b[0mtime\u001b[0m\u001b[1;33m)\u001b[0m \u001b[1;33m+\u001b[0m \u001b[0mtitleString\u001b[0m \u001b[1;33m+\u001b[0m \u001b[1;34m\"']\"\u001b[0m\u001b[1;33m\u001b[0m\u001b[0m\n\u001b[1;32m---> 34\u001b[1;33m             \u001b[0melementsList\u001b[0m\u001b[1;33m.\u001b[0m\u001b[0mappend\u001b[0m\u001b[1;33m(\u001b[0m\u001b[0mdriver\u001b[0m\u001b[1;33m.\u001b[0m\u001b[0mfind_element_by_xpath\u001b[0m\u001b[1;33m(\u001b[0m\u001b[0mxPath\u001b[0m\u001b[1;33m)\u001b[0m\u001b[1;33m)\u001b[0m\u001b[1;33m\u001b[0m\u001b[0m\n\u001b[0m\u001b[0;32m     35\u001b[0m         \u001b[1;32mfor\u001b[0m \u001b[0mel\u001b[0m \u001b[1;32min\u001b[0m \u001b[0melementsList\u001b[0m\u001b[1;33m:\u001b[0m\u001b[1;33m\u001b[0m\u001b[0m\n\u001b[0;32m     36\u001b[0m             \u001b[1;32mif\u001b[0m\u001b[1;33m(\u001b[0m\u001b[0mel\u001b[0m\u001b[1;33m.\u001b[0m\u001b[0mget_attribute\u001b[0m\u001b[1;33m(\u001b[0m\u001b[1;34m\"class\"\u001b[0m\u001b[1;33m)\u001b[0m \u001b[1;33m!=\u001b[0m \u001b[1;34m\"fc-timeline-event fc-h-event fc-event fc-start fc-end s-lc-eq-avail\"\u001b[0m\u001b[1;33m)\u001b[0m\u001b[1;33m:\u001b[0m\u001b[1;33m\u001b[0m\u001b[0m\n",
      "\u001b[1;32mC:\\ProgramData\\Anaconda3\\lib\\site-packages\\selenium\\webdriver\\remote\\webdriver.py\u001b[0m in \u001b[0;36mfind_element_by_xpath\u001b[1;34m(self, xpath)\u001b[0m\n\u001b[0;32m    392\u001b[0m             \u001b[0melement\u001b[0m \u001b[1;33m=\u001b[0m \u001b[0mdriver\u001b[0m\u001b[1;33m.\u001b[0m\u001b[0mfind_element_by_xpath\u001b[0m\u001b[1;33m(\u001b[0m\u001b[1;34m'//div/td[1]'\u001b[0m\u001b[1;33m)\u001b[0m\u001b[1;33m\u001b[0m\u001b[0m\n\u001b[0;32m    393\u001b[0m         \"\"\"\n\u001b[1;32m--> 394\u001b[1;33m         \u001b[1;32mreturn\u001b[0m \u001b[0mself\u001b[0m\u001b[1;33m.\u001b[0m\u001b[0mfind_element\u001b[0m\u001b[1;33m(\u001b[0m\u001b[0mby\u001b[0m\u001b[1;33m=\u001b[0m\u001b[0mBy\u001b[0m\u001b[1;33m.\u001b[0m\u001b[0mXPATH\u001b[0m\u001b[1;33m,\u001b[0m \u001b[0mvalue\u001b[0m\u001b[1;33m=\u001b[0m\u001b[0mxpath\u001b[0m\u001b[1;33m)\u001b[0m\u001b[1;33m\u001b[0m\u001b[0m\n\u001b[0m\u001b[0;32m    395\u001b[0m \u001b[1;33m\u001b[0m\u001b[0m\n\u001b[0;32m    396\u001b[0m     \u001b[1;32mdef\u001b[0m \u001b[0mfind_elements_by_xpath\u001b[0m\u001b[1;33m(\u001b[0m\u001b[0mself\u001b[0m\u001b[1;33m,\u001b[0m \u001b[0mxpath\u001b[0m\u001b[1;33m)\u001b[0m\u001b[1;33m:\u001b[0m\u001b[1;33m\u001b[0m\u001b[0m\n",
      "\u001b[1;32mC:\\ProgramData\\Anaconda3\\lib\\site-packages\\selenium\\webdriver\\remote\\webdriver.py\u001b[0m in \u001b[0;36mfind_element\u001b[1;34m(self, by, value)\u001b[0m\n\u001b[0;32m    976\u001b[0m         return self.execute(Command.FIND_ELEMENT, {\n\u001b[0;32m    977\u001b[0m             \u001b[1;34m'using'\u001b[0m\u001b[1;33m:\u001b[0m \u001b[0mby\u001b[0m\u001b[1;33m,\u001b[0m\u001b[1;33m\u001b[0m\u001b[0m\n\u001b[1;32m--> 978\u001b[1;33m             'value': value})['value']\n\u001b[0m\u001b[0;32m    979\u001b[0m \u001b[1;33m\u001b[0m\u001b[0m\n\u001b[0;32m    980\u001b[0m     \u001b[1;32mdef\u001b[0m \u001b[0mfind_elements\u001b[0m\u001b[1;33m(\u001b[0m\u001b[0mself\u001b[0m\u001b[1;33m,\u001b[0m \u001b[0mby\u001b[0m\u001b[1;33m=\u001b[0m\u001b[0mBy\u001b[0m\u001b[1;33m.\u001b[0m\u001b[0mID\u001b[0m\u001b[1;33m,\u001b[0m \u001b[0mvalue\u001b[0m\u001b[1;33m=\u001b[0m\u001b[1;32mNone\u001b[0m\u001b[1;33m)\u001b[0m\u001b[1;33m:\u001b[0m\u001b[1;33m\u001b[0m\u001b[0m\n",
      "\u001b[1;32mC:\\ProgramData\\Anaconda3\\lib\\site-packages\\selenium\\webdriver\\remote\\webdriver.py\u001b[0m in \u001b[0;36mexecute\u001b[1;34m(self, driver_command, params)\u001b[0m\n\u001b[0;32m    319\u001b[0m         \u001b[0mresponse\u001b[0m \u001b[1;33m=\u001b[0m \u001b[0mself\u001b[0m\u001b[1;33m.\u001b[0m\u001b[0mcommand_executor\u001b[0m\u001b[1;33m.\u001b[0m\u001b[0mexecute\u001b[0m\u001b[1;33m(\u001b[0m\u001b[0mdriver_command\u001b[0m\u001b[1;33m,\u001b[0m \u001b[0mparams\u001b[0m\u001b[1;33m)\u001b[0m\u001b[1;33m\u001b[0m\u001b[0m\n\u001b[0;32m    320\u001b[0m         \u001b[1;32mif\u001b[0m \u001b[0mresponse\u001b[0m\u001b[1;33m:\u001b[0m\u001b[1;33m\u001b[0m\u001b[0m\n\u001b[1;32m--> 321\u001b[1;33m             \u001b[0mself\u001b[0m\u001b[1;33m.\u001b[0m\u001b[0merror_handler\u001b[0m\u001b[1;33m.\u001b[0m\u001b[0mcheck_response\u001b[0m\u001b[1;33m(\u001b[0m\u001b[0mresponse\u001b[0m\u001b[1;33m)\u001b[0m\u001b[1;33m\u001b[0m\u001b[0m\n\u001b[0m\u001b[0;32m    322\u001b[0m             response['value'] = self._unwrap_value(\n\u001b[0;32m    323\u001b[0m                 response.get('value', None))\n",
      "\u001b[1;32mC:\\ProgramData\\Anaconda3\\lib\\site-packages\\selenium\\webdriver\\remote\\errorhandler.py\u001b[0m in \u001b[0;36mcheck_response\u001b[1;34m(self, response)\u001b[0m\n\u001b[0;32m    240\u001b[0m                 \u001b[0malert_text\u001b[0m \u001b[1;33m=\u001b[0m \u001b[0mvalue\u001b[0m\u001b[1;33m[\u001b[0m\u001b[1;34m'alert'\u001b[0m\u001b[1;33m]\u001b[0m\u001b[1;33m.\u001b[0m\u001b[0mget\u001b[0m\u001b[1;33m(\u001b[0m\u001b[1;34m'text'\u001b[0m\u001b[1;33m)\u001b[0m\u001b[1;33m\u001b[0m\u001b[0m\n\u001b[0;32m    241\u001b[0m             \u001b[1;32mraise\u001b[0m \u001b[0mexception_class\u001b[0m\u001b[1;33m(\u001b[0m\u001b[0mmessage\u001b[0m\u001b[1;33m,\u001b[0m \u001b[0mscreen\u001b[0m\u001b[1;33m,\u001b[0m \u001b[0mstacktrace\u001b[0m\u001b[1;33m,\u001b[0m \u001b[0malert_text\u001b[0m\u001b[1;33m)\u001b[0m\u001b[1;33m\u001b[0m\u001b[0m\n\u001b[1;32m--> 242\u001b[1;33m         \u001b[1;32mraise\u001b[0m \u001b[0mexception_class\u001b[0m\u001b[1;33m(\u001b[0m\u001b[0mmessage\u001b[0m\u001b[1;33m,\u001b[0m \u001b[0mscreen\u001b[0m\u001b[1;33m,\u001b[0m \u001b[0mstacktrace\u001b[0m\u001b[1;33m)\u001b[0m\u001b[1;33m\u001b[0m\u001b[0m\n\u001b[0m\u001b[0;32m    243\u001b[0m \u001b[1;33m\u001b[0m\u001b[0m\n\u001b[0;32m    244\u001b[0m     \u001b[1;32mdef\u001b[0m \u001b[0m_value_or_default\u001b[0m\u001b[1;33m(\u001b[0m\u001b[0mself\u001b[0m\u001b[1;33m,\u001b[0m \u001b[0mobj\u001b[0m\u001b[1;33m,\u001b[0m \u001b[0mkey\u001b[0m\u001b[1;33m,\u001b[0m \u001b[0mdefault\u001b[0m\u001b[1;33m)\u001b[0m\u001b[1;33m:\u001b[0m\u001b[1;33m\u001b[0m\u001b[0m\n",
      "\u001b[1;31mNoSuchElementException\u001b[0m: Message: Unable to locate element: //a[@title='1:00pm Thursday, March 28, 2019 - 4.04']\n"
     ]
    }
   ],
   "source": [
    "#roomList = [\"Massey Group Study Pod\", \"309\", \"Group Study Pod 3\", \"Group Study Pod 2\"]\n",
    "roomList = [\"4.04\",\"309\"]\n",
    "usernames = [\"\", \"\", \"\", \"\"]\n",
    "passwords = [\"\", \"\", \"\", \"\"]\n",
    "\n",
    "# NEVER START ON SATURDAY/SUNDAY AS INPUT\n",
    "bookRooms(roomList, 4, \"28/03/2019 13\", \"14/04/2019\", usernames, passwords)"
   ]
  },
  {
   "cell_type": "code",
   "execution_count": null,
   "metadata": {
    "collapsed": true
   },
   "outputs": [],
   "source": []
  }
 ],
 "metadata": {
  "kernelspec": {
   "display_name": "Python 3",
   "language": "python",
   "name": "python3"
  },
  "language_info": {
   "codemirror_mode": {
    "name": "ipython",
    "version": 3
   },
   "file_extension": ".py",
   "mimetype": "text/x-python",
   "name": "python",
   "nbconvert_exporter": "python",
   "pygments_lexer": "ipython3",
   "version": "3.6.5"
  },
  "varInspector": {
   "cols": {
    "lenName": 16,
    "lenType": 16,
    "lenVar": 40
   },
   "kernels_config": {
    "python": {
     "delete_cmd_postfix": "",
     "delete_cmd_prefix": "del ",
     "library": "var_list.py",
     "varRefreshCmd": "print(var_dic_list())"
    },
    "r": {
     "delete_cmd_postfix": ") ",
     "delete_cmd_prefix": "rm(",
     "library": "var_list.r",
     "varRefreshCmd": "cat(var_dic_list()) "
    }
   },
   "types_to_exclude": [
    "module",
    "function",
    "builtin_function_or_method",
    "instance",
    "_Feature"
   ],
   "window_display": false
  }
 },
 "nbformat": 4,
 "nbformat_minor": 2
}
